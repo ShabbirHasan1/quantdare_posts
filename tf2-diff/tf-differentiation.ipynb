{
 "cells": [
  {
   "cell_type": "markdown",
   "metadata": {},
   "source": [
    "\n",
    "How to use TensorFlow to obtain derivatives of price option.\n",
    "For this post I used tensorflow v2 which has a nicer API.\n",
    "\n",
    "https://en.wikipedia.org/wiki/Greeks_(finance)\n"
   ]
  },
  {
   "cell_type": "code",
   "execution_count": 1,
   "metadata": {},
   "outputs": [],
   "source": [
    "import numpy as np\n",
    "import pandas as pd\n",
    "import tensorflow as tf\n",
    "from pprint import pprint\n",
    "\n",
    "DTYPE = tf.float32\n",
    "SEED = 3232"
   ]
  },
  {
   "cell_type": "code",
   "execution_count": 2,
   "metadata": {},
   "outputs": [],
   "source": [
    "def initialize_variables(\n",
    "    S0=100,\n",
    "    strike=110,\n",
    "    time_to_expiry=2,\n",
    "    implied_vol=0.2,\n",
    "    riskfree=0.03,\n",
    "    to_tf=False\n",
    "):\n",
    "    \"\"\"Initialize variables.\n",
    "\n",
    "    Parameters\n",
    "    ----------\n",
    "    S0 : float\n",
    "        Underlying spot price.\n",
    "    strike : float\n",
    "        Strike price.\n",
    "    time_to_expiry : float\n",
    "        Time to expiry.\n",
    "    implied_vol : float\n",
    "        Volatility.\n",
    "    riskfree : float\n",
    "        Risk free rate.\n",
    "    to_tf : bool, optional\n",
    "        Pass True to returns tensorflow variables.\n",
    "\n",
    "    Returns\n",
    "    -------\n",
    "    out : dict\n",
    "        A dictionary with the following keys:\n",
    "        S0 : Spot price\n",
    "        strike : Strike price\n",
    "        time_to_expiry : Time of Maturity\n",
    "        implied_vol : Volatility\n",
    "        riskfree : Risk Free Rate\n",
    "        to_tf : use tensorflow variables\n",
    "\n",
    "    Examples\n",
    "    --------\n",
    "    >>> out = initialize_variables()\n",
    "    >>> pprint(out)\n",
    "    {'S0': 100,\n",
    "     'implied_vol': 0.2,\n",
    "     'riskfree': 0.03,\n",
    "     'strike': 110,\n",
    "     'time_to_expiry': 2}\n",
    "    \"\"\"\n",
    "    if to_tf:\n",
    "        S0 = tf.Variable(S0, dtype=DTYPE)\n",
    "        strike = tf.Variable(strike, dtype=DTYPE)\n",
    "        time_to_expiry = tf.Variable(time_to_expiry, dtype=DTYPE)\n",
    "        implied_vol = tf.Variable(implied_vol, dtype=DTYPE)\n",
    "        riskfree = tf.Variable(riskfree, dtype=DTYPE)\n",
    "\n",
    "    out = dict(\n",
    "            S0=S0,\n",
    "            strike=strike,\n",
    "            time_to_expiry=time_to_expiry,\n",
    "            implied_vol=implied_vol,\n",
    "            riskfree=riskfree,\n",
    "        )\n",
    "\n",
    "    return out"
   ]
  },
  {
   "cell_type": "code",
   "execution_count": 3,
   "metadata": {},
   "outputs": [
    {
     "name": "stdout",
     "output_type": "stream",
     "text": [
      "{'S0': 100,\n",
      " 'implied_vol': 0.2,\n",
      " 'riskfree': 0.03,\n",
      " 'strike': 110,\n",
      " 'time_to_expiry': 2}\n"
     ]
    }
   ],
   "source": [
    "out = initialize_variables()\n",
    "pprint(out)"
   ]
  },
  {
   "cell_type": "markdown",
   "metadata": {},
   "source": [
    "# Black-Scholes"
   ]
  },
  {
   "cell_type": "code",
   "execution_count": 4,
   "metadata": {},
   "outputs": [],
   "source": [
    "@tf.function\n",
    "def pricer_blackScholes(S0, strike, time_to_expiry, implied_vol, riskfree):\n",
    "    \"\"\"pricer_blackScholes.\n",
    "\n",
    "    Parameters\n",
    "    ----------\n",
    "    S0 : tensorflow.Variable\n",
    "        Underlying spot price.\n",
    "    strike : tensorflow.Variable\n",
    "        Strike price.\n",
    "    time_to_expiry : tensorflow.Variable\n",
    "        Time to expiry.\n",
    "    implied_vol : tensorflow.Variable\n",
    "        Volatility.\n",
    "    riskfree : tensorflow.Variable\n",
    "        Risk free rate.\n",
    "\n",
    "    Returns\n",
    "    -------\n",
    "    npv : tensorflow.Tensor\n",
    "        Net present value.\n",
    "\n",
    "    Examples\n",
    "    --------\n",
    "    >>> kw = initialize_variables(to_tf=True)\n",
    "    >>> pricer_blackScholes(**kw)\n",
    "    <tf.Tensor: id=120, shape=(), dtype=float32, numpy=9.739834>\n",
    "\n",
    "    Notes\n",
    "    -----\n",
    "    Formula: https://en.wikipedia.org/wiki/Black%E2%80%93Scholes_model#Black%E2%80%93Scholes_formula\n",
    "    \"\"\"\n",
    "    S       = S0\n",
    "    K       = strike\n",
    "    dt      = time_to_expiry\n",
    "    dt_sqrt = tf.sqrt(dt)\n",
    "    sigma   = implied_vol\n",
    "    r       = riskfree\n",
    "    Phi     = tf.compat.v1.distributions.Normal(0., 1.).cdf\n",
    "\n",
    "    d1 = (tf.math.log(S / K) + (r + sigma ** 2 / 2) * dt) / (sigma * dt_sqrt)\n",
    "    d2 = d1 - sigma * dt_sqrt\n",
    "\n",
    "    npv =  S * Phi(d1) - K * tf.exp(-r * dt) * Phi(d2)\n",
    "    return npv"
   ]
  },
  {
   "cell_type": "code",
   "execution_count": 5,
   "metadata": {},
   "outputs": [
    {
     "name": "stdout",
     "output_type": "stream",
     "text": [
      "{'S0': 100,\n",
      " 'implied_vol': 0.2,\n",
      " 'riskfree': 0.03,\n",
      " 'strike': 110,\n",
      " 'time_to_expiry': 2}\n"
     ]
    }
   ],
   "source": [
    "out = initialize_variables()\n",
    "pprint(out)"
   ]
  },
  {
   "cell_type": "code",
   "execution_count": 6,
   "metadata": {},
   "outputs": [],
   "source": [
    "def calculate_blackScholes():\n",
    "    \"\"\"calculate_blackScholes.\n",
    "\n",
    "    Returns\n",
    "    -------\n",
    "    out : dict\n",
    "        npv : net present value\n",
    "        dv : First order derivates\n",
    "\n",
    "    Examples\n",
    "    --------\n",
    "    >>> out = calculate_blackScholes()\n",
    "    >>> pprint(out)\n",
    "    {'dv': {'S0': 0.5066145,\n",
    "            'implied_vol': 56.411205,\n",
    "            'riskfree': 81.843216,\n",
    "            'strike': -0.37201464,\n",
    "            'time_to_expiry': 4.0482087},\n",
    "     'npv': 9.739834}\n",
    "    \"\"\"\n",
    "    variables = initialize_variables(to_tf=True)\n",
    "\n",
    "    with tf.GradientTape() as g1:\n",
    "        npv = pricer_blackScholes(**variables)\n",
    "    dv = g1.gradient(npv, variables)\n",
    "\n",
    "    dv = {k: v.numpy() for k,v in dv.items()}  # get the value\n",
    "    return dict(npv=npv.numpy(), dv=dv)"
   ]
  },
  {
   "cell_type": "code",
   "execution_count": 7,
   "metadata": {},
   "outputs": [
    {
     "name": "stdout",
     "output_type": "stream",
     "text": [
      "WARNING:tensorflow:From /Users/mmngreco/miniconda3/envs/quantdare/lib/python3.6/site-packages/tensorflow_core/python/autograph/impl/api.py:332: Normal.__init__ (from tensorflow.python.ops.distributions.normal) is deprecated and will be removed after 2019-01-01.\n",
      "Instructions for updating:\n",
      "The TensorFlow Distributions library has moved to TensorFlow Probability (https://github.com/tensorflow/probability). You should update all references to use `tfp.distributions` instead of `tf.distributions`.\n",
      "WARNING:tensorflow:From /Users/mmngreco/miniconda3/envs/quantdare/lib/python3.6/site-packages/tensorflow_core/python/ops/distributions/normal.py:160: Distribution.__init__ (from tensorflow.python.ops.distributions.distribution) is deprecated and will be removed after 2019-01-01.\n",
      "Instructions for updating:\n",
      "The TensorFlow Distributions library has moved to TensorFlow Probability (https://github.com/tensorflow/probability). You should update all references to use `tfp.distributions` instead of `tf.distributions`.\n",
      "{'dv': {'S0': 0.5066145,\n",
      "        'implied_vol': 56.411205,\n",
      "        'riskfree': 81.843216,\n",
      "        'strike': -0.37201464,\n",
      "        'time_to_expiry': 4.0482087},\n",
      " 'npv': 9.739834}\n"
     ]
    }
   ],
   "source": [
    "out = calculate_blackScholes()\n",
    "pprint(out)"
   ]
  },
  {
   "cell_type": "markdown",
   "metadata": {},
   "source": [
    "# Monte Carlo\n"
   ]
  },
  {
   "cell_type": "code",
   "execution_count": 12,
   "metadata": {},
   "outputs": [],
   "source": [
    "@tf.function\n",
    "def brownian(S0, dt, sigma, mu, dw):\n",
    "    \"\"\"Generates a brownian motion.\n",
    "\n",
    "    Parameters\n",
    "    ----------\n",
    "    S0 : tensorflow.Variable\n",
    "        Initial value of Spot.\n",
    "    dt : tensorflow.Variable\n",
    "        Time step.\n",
    "    sigma : tensorflow.Variable\n",
    "        Volatility.\n",
    "    mu : tensorflow.Variable\n",
    "        Mean, in black Scholes frame it's the risk free rate.\n",
    "    dw : tensorflow.Variable\n",
    "        Random variable.\n",
    "\n",
    "    Returns\n",
    "    -------\n",
    "    out : numpy.array\n",
    "\n",
    "    Examples\n",
    "    --------\n",
    "    >>> nsims = 10\n",
    "    >>> nobs = 400\n",
    "    >>> v = initialize_variables(to_tf=True)\n",
    "    >>> S0 = v[\"S0\"]\n",
    "    >>> dw = tf.random.normal((nsims, nobs), seed=SEED)\n",
    "    >>> dt = v[\"time_to_expiry\"] / dw.shape[1]\n",
    "    >>> sigma = v[\"implied_vol\"]\n",
    "    >>> r = v[\"riskfree\"]\n",
    "    >>> paths = np.transpose(brownian(S0, dt, sigma, r, dw))\n",
    "    \"\"\"\n",
    "    dt_sqrt = tf.math.sqrt(dt)\n",
    "    shock = sigma * dt_sqrt * dw\n",
    "    drift = (mu - (sigma ** 2) / 2)\n",
    "    bm = tf.math.exp(drift * dt + shock)\n",
    "    out = S0 * tf.math.cumprod(bm, axis=1)\n",
    "    return out"
   ]
  },
  {
   "cell_type": "code",
   "execution_count": 13,
   "metadata": {},
   "outputs": [
    {
     "data": {
      "text/plain": [
       "<matplotlib.axes._subplots.AxesSubplot at 0x63b1934e0>"
      ]
     },
     "execution_count": 13,
     "metadata": {},
     "output_type": "execute_result"
    },
    {
     "data": {
      "image/png": "[encoded data removed]",
      "text/plain": [
       "<Figure size 432x288 with 1 Axes>"
      ]
     },
     "metadata": {
      "needs_background": "light"
     },
     "output_type": "display_data"
    }
   ],
   "source": [
    "nsims = 10\n",
    "nobs = 400\n",
    "v = initialize_variables(to_tf=True)\n",
    "S0 = v[\"S0\"]\n",
    "dw = tf.random.normal((nsims, nobs), seed=SEED)\n",
    "dt = v[\"time_to_expiry\"] / dw.shape[1]\n",
    "sigma = v[\"implied_vol\"]\n",
    "r = v[\"riskfree\"]\n",
    "paths = np.transpose(brownian(S0, dt, sigma, r, dw))\n",
    "pd.DataFrame(paths).plot()"
   ]
  },
  {
   "cell_type": "code",
   "execution_count": 14,
   "metadata": {},
   "outputs": [],
   "source": [
    "@tf.function\n",
    "def pricer_montecarlo(S0, strike, time_to_expiry, implied_vol, riskfree, dw):\n",
    "    \"\"\"Monte Carlo pricing method.\n",
    "\n",
    "    Parameters\n",
    "    ----------\n",
    "    S0 : tensorflow.Variable\n",
    "        Underlying spot price.\n",
    "    strike : tensorflow.Variable\n",
    "        Strike price.\n",
    "    time_to_expiry : tensorflow.Variable\n",
    "        Time to expiry.\n",
    "    implied_vol : tensorflow.Variable\n",
    "        Volatility.\n",
    "    riskfree : tensorflow.Variable\n",
    "        Risk free rate.\n",
    "    dw : tensorflow.Variable\n",
    "        Normal random variable.\n",
    "\n",
    "    Returns\n",
    "    -------\n",
    "    npv : tensorflow.Variable\n",
    "        Net present value.\n",
    "\n",
    "    Examples\n",
    "    --------\n",
    "    >>> nsims = 10\n",
    "    >>> nobs = 100\n",
    "    >>> dw = tf.random.normal((nsims, nobs), seed=3232)\n",
    "    >>> v = initialize_variables(to_tf=True)\n",
    "    >>> npv = pricer_montecarlo(**v, dw=dw)\n",
    "    >>> npv\n",
    "    <tf.Tensor: id=646, shape=(), dtype=float32, numpy=28.780073>\n",
    "    \"\"\"\n",
    "    sigma = implied_vol\n",
    "    T = time_to_expiry\n",
    "    r = riskfree\n",
    "    K = strike\n",
    "    dt = T / dw.shape[1]\n",
    "\n",
    "    st = brownian(S0, dt, sigma, r, dw)\n",
    "    payout = tf.math.maximum(st[:, -1] - K, 0)\n",
    "    npv = tf.exp(-r * T) * tf.reduce_mean(payout)\n",
    "\n",
    "    return npv"
   ]
  },
  {
   "cell_type": "code",
   "execution_count": 15,
   "metadata": {},
   "outputs": [
    {
     "data": {
      "text/plain": [
       "<tf.Tensor: id=770, shape=(), dtype=float32, numpy=7.9497027>"
      ]
     },
     "execution_count": 15,
     "metadata": {},
     "output_type": "execute_result"
    }
   ],
   "source": [
    "nsims = 10\n",
    "nobs = 100\n",
    "dw = tf.random.normal((nsims, nobs), seed=3232)\n",
    "v = initialize_variables(to_tf=True)\n",
    "npv = pricer_montecarlo(**v, dw=dw)\n",
    "npv"
   ]
  },
  {
   "cell_type": "code",
   "execution_count": 20,
   "metadata": {},
   "outputs": [],
   "source": [
    "def calculate_montecarlo(greeks=True):\n",
    "    \"\"\"calculate_montecarlo.\n",
    "\n",
    "    Returns\n",
    "    -------\n",
    "    out : dict\n",
    "        npv : Net present value\n",
    "        dv : First order derivatives\n",
    "        d2v : Second order derivatives\n",
    "\n",
    "    Examples\n",
    "    --------\n",
    "    >>> out = calculate_montecarlo()\n",
    "    >>> pprint(out)\n",
    "    {'d2v': {'S0': 0.59282005,\n",
    "             'implied_vol': 13.493881,\n",
    "             'riskfree': -124.43222,\n",
    "             'strike': 0.75492465,\n",
    "             'time_to_expiry': 51.805096},\n",
    "     'dv': {'S0': 0.5065364,\n",
    "            'implied_vol': 56.45906,\n",
    "            'riskfree': 81.81441,\n",
    "            'strike': -0.37188327,\n",
    "            'time_to_expiry': 4.050169},\n",
    "     'npv': 9.746445}\n",
    "    \"\"\"\n",
    "    nsims = 10000000\n",
    "    nobs = 2\n",
    "    dw = tf.random.normal((nsims, nobs), seed=SEED)\n",
    "    v = initialize_variables(to_tf=True)\n",
    "\n",
    "    out = dict()\n",
    "\n",
    "    if greeks:\n",
    "        with tf.GradientTape() as g2:\n",
    "            with tf.GradientTape() as g1:\n",
    "                npv = pricer_montecarlo(**v, dw=dw)\n",
    "            dv = g1.gradient(npv, v)\n",
    "        d2v = g2.gradient(dv, v)\n",
    "\n",
    "        out[\"dv\"] = {k: v.numpy() for k, v in dv.items()}\n",
    "        out[\"d2v\"] = {k: v.numpy() for k, v in d2v.items()}\n",
    "    else:\n",
    "        npv = pricer_montecarlo(**v, dw=dw).numpy()\n",
    "\n",
    "    out[\"npv\"] = npv.numpy()\n",
    "    return out"
   ]
  },
  {
   "cell_type": "code",
   "execution_count": 21,
   "metadata": {},
   "outputs": [
    {
     "name": "stdout",
     "output_type": "stream",
     "text": [
      "{'d2v': {'S0': 0.59196043,\n",
      "         'implied_vol': 13.24057,\n",
      "         'riskfree': -124.42546,\n",
      "         'strike': 0.75488365,\n",
      "         'time_to_expiry': 51.77191},\n",
      " 'dv': {'S0': 0.50639206,\n",
      "        'implied_vol': 56.37719,\n",
      "        'riskfree': 81.80995,\n",
      "        'strike': -0.37186304,\n",
      "        'time_to_expiry': 4.0460086},\n",
      " 'npv': 9.734236}\n"
     ]
    }
   ],
   "source": [
    "out = calculate_montecarlo()\n",
    "pprint(out)"
   ]
  },
  {
   "cell_type": "code",
   "execution_count": 24,
   "metadata": {},
   "outputs": [
    {
     "name": "stdout",
     "output_type": "stream",
     "text": [
      "WARNING:tensorflow:6 out of the last 6 calls to <function brownian at 0x63a078048> triggered tf.function retracing. Tracing is expensive and the excessive number of tracings is likely due to passing python objects instead of tensors. Also, tf.function has experimental_relax_shapes=True option that relaxes argument shapes that can avoid unnecessary retracing. Please refer to https://www.tensorflow.org/beta/tutorials/eager/tf_function#python_or_tensor_args and https://www.tensorflow.org/api_docs/python/tf/function for more details.\n"
     ]
    }
   ],
   "source": [
    "def test_brownian():\n",
    "    nsims = 10000000\n",
    "    nobs = 2\n",
    "    dw = tf.random.normal((nsims, nobs), seed=SEED)\n",
    "    v = initialize_variables()\n",
    "    S0 = v[\"S0\"]\n",
    "    t = v[\"time_to_expiry\"]\n",
    "    dt = t / dw.shape[1]\n",
    "    sigma = v[\"implied_vol\"]\n",
    "    r = v[\"riskfree\"]\n",
    "    paths = brownian(S0, dt, sigma, r, dw)\n",
    "\n",
    "    obtained = np.mean(paths[:, -1])\n",
    "    expected = np.exp(r * t) * S0\n",
    "\n",
    "    tol = 0.01\n",
    "    assert abs(obtained - expected) < tol, \"%.3f , %.3f , %.3f\" % (obtained, expected, abs(obtained-expected))\n",
    "\n",
    "test_brownian()"
   ]
  },
  {
   "cell_type": "code",
   "execution_count": null,
   "metadata": {},
   "outputs": [],
   "source": []
  }
 ],
 "metadata": {
  "kernelspec": {
   "display_name": "Python 3",
   "language": "python",
   "name": "python3"
  },
  "language_info": {
   "codemirror_mode": {
    "name": "ipython",
    "version": 3
   },
   "file_extension": ".py",
   "mimetype": "text/x-python",
   "name": "python",
   "nbconvert_exporter": "python",
   "pygments_lexer": "ipython3",
   "version": "3.6.10"
  }
 },
 "nbformat": 4,
 "nbformat_minor": 5
}
